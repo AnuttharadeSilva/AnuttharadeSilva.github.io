{
  "nbformat": 4,
  "nbformat_minor": 0,
  "metadata": {
    "colab": {
      "name": "logistic regression.ipynb",
      "provenance": [],
      "collapsed_sections": [],
      "machine_shape": "hm",
      "mount_file_id": "1VQNdVjnifal8hAgOTtmVlUBhL3uwnCKt",
      "authorship_tag": "ABX9TyObNMpTabmZSUmDms+xm8SI",
      "include_colab_link": true
    },
    "kernelspec": {
      "name": "python3",
      "display_name": "Python 3"
    }
  },
  "cells": [
    {
      "cell_type": "markdown",
      "metadata": {
        "id": "view-in-github",
        "colab_type": "text"
      },
      "source": [
        "<a href=\"https://colab.research.google.com/github/AnuttharadeSilva/AnuttharadeSilva.github.io/blob/master/logistic_regression.ipynb\" target=\"_parent\"><img src=\"https://colab.research.google.com/assets/colab-badge.svg\" alt=\"Open In Colab\"/></a>"
      ]
    },
    {
      "cell_type": "code",
      "metadata": {
        "id": "LZO-wIjRBHiS",
        "colab_type": "code",
        "colab": {}
      },
      "source": [
        "import numpy as np\n",
        "import pandas as pd\n",
        "import re\n",
        "import nltk\n",
        "from string import punctuation \n",
        "from nltk.corpus import stopwords\n",
        "from nltk.stem.porter import PorterStemmer\n",
        "from sklearn.externals import joblib\n",
        "nltk.download('stopwords')\n",
        "nltk.download('wordnet')"
      ],
      "execution_count": null,
      "outputs": []
    },
    {
      "cell_type": "code",
      "metadata": {
        "id": "fJ1DpgsJACIZ",
        "colab_type": "code",
        "colab": {
          "base_uri": "https://localhost:8080/",
          "height": 34
        },
        "outputId": "2feaf873-89d1-4aa9-b6a8-cc18341fa18e"
      },
      "source": [
        "df = pd.read_csv('./drive/My Drive/tweet/tweets.csv', delimiter = ',',encoding='ISO-8859-1')\n",
        "#df = pd.read_csv('./drive/My Drive/tweet/reviews.csv', delimiter = ',',encoding='ISO-8859-1')\n",
        "#frames = [df1,df2]\n",
        "#df = pd.concat(frames)\n",
        "#df = pd.DataFrame(df.values, columns = ['Sentiment','SentimentText'])\n",
        "df = df.dropna()\n",
        "df = df.reset_index(drop=True)\n",
        "df_length =len(df)\n",
        "df.shape"
      ],
      "execution_count": null,
      "outputs": [
        {
          "output_type": "execute_result",
          "data": {
            "text/plain": [
              "(20732, 2)"
            ]
          },
          "metadata": {
            "tags": []
          },
          "execution_count": 2
        }
      ]
    },
    {
      "cell_type": "code",
      "metadata": {
        "id": "99d5JkBVJAMr",
        "colab_type": "code",
        "colab": {
          "base_uri": "https://localhost:8080/",
          "height": 359
        },
        "outputId": "dea0dd2f-e204-4213-cea7-ce775f951722"
      },
      "source": [
        "df.head(10)"
      ],
      "execution_count": null,
      "outputs": [
        {
          "output_type": "execute_result",
          "data": {
            "text/html": [
              "<div>\n",
              "<style scoped>\n",
              "    .dataframe tbody tr th:only-of-type {\n",
              "        vertical-align: middle;\n",
              "    }\n",
              "\n",
              "    .dataframe tbody tr th {\n",
              "        vertical-align: top;\n",
              "    }\n",
              "\n",
              "    .dataframe thead th {\n",
              "        text-align: right;\n",
              "    }\n",
              "</style>\n",
              "<table border=\"1\" class=\"dataframe\">\n",
              "  <thead>\n",
              "    <tr style=\"text-align: right;\">\n",
              "      <th></th>\n",
              "      <th>Sentiment</th>\n",
              "      <th>SentimentText</th>\n",
              "    </tr>\n",
              "  </thead>\n",
              "  <tbody>\n",
              "    <tr>\n",
              "      <th>0</th>\n",
              "      <td>0</td>\n",
              "      <td>I didn't realize it was THAT deep. Geez giv...</td>\n",
              "    </tr>\n",
              "    <tr>\n",
              "      <th>1</th>\n",
              "      <td>0</td>\n",
              "      <td>I hate it when any athlete appears to tear ...</td>\n",
              "    </tr>\n",
              "    <tr>\n",
              "      <th>2</th>\n",
              "      <td>0</td>\n",
              "      <td>i miss you guys too     i think i'm wearing...</td>\n",
              "    </tr>\n",
              "    <tr>\n",
              "      <th>3</th>\n",
              "      <td>0</td>\n",
              "      <td>-- Meet your Meat http://bit.ly/15SSCI</td>\n",
              "    </tr>\n",
              "    <tr>\n",
              "      <th>4</th>\n",
              "      <td>0</td>\n",
              "      <td>My horsie is moving on Saturday morning.</td>\n",
              "    </tr>\n",
              "    <tr>\n",
              "      <th>5</th>\n",
              "      <td>0</td>\n",
              "      <td>No Sat off...Need to work 6 days a week</td>\n",
              "    </tr>\n",
              "    <tr>\n",
              "      <th>6</th>\n",
              "      <td>0</td>\n",
              "      <td>Really Dont Like Doing my Room Its So Borin...</td>\n",
              "    </tr>\n",
              "    <tr>\n",
              "      <th>7</th>\n",
              "      <td>0</td>\n",
              "      <td>SOX!     Floyd was great, but relievers nee...</td>\n",
              "    </tr>\n",
              "    <tr>\n",
              "      <th>8</th>\n",
              "      <td>0</td>\n",
              "      <td>times by like a million</td>\n",
              "    </tr>\n",
              "    <tr>\n",
              "      <th>9</th>\n",
              "      <td>1</td>\n",
              "      <td>uploading pictures on friendster</td>\n",
              "    </tr>\n",
              "  </tbody>\n",
              "</table>\n",
              "</div>"
            ],
            "text/plain": [
              "   Sentiment                                      SentimentText\n",
              "0          0     I didn't realize it was THAT deep. Geez giv...\n",
              "1          0     I hate it when any athlete appears to tear ...\n",
              "2          0     i miss you guys too     i think i'm wearing...\n",
              "3          0             -- Meet your Meat http://bit.ly/15SSCI\n",
              "4          0           My horsie is moving on Saturday morning.\n",
              "5          0           No Sat off...Need to work 6 days a week \n",
              "6          0     Really Dont Like Doing my Room Its So Borin...\n",
              "7          0     SOX!     Floyd was great, but relievers nee...\n",
              "8          0                            times by like a million\n",
              "9          1                  uploading pictures on friendster "
            ]
          },
          "metadata": {
            "tags": []
          },
          "execution_count": 3
        }
      ]
    },
    {
      "cell_type": "code",
      "metadata": {
        "id": "P_AVYJsmAFz-",
        "colab_type": "code",
        "colab": {}
      },
      "source": [
        "corpus = []\n",
        "stopwords = set(stopwords.words('english')+list(punctuation)+['AT_USER','URL'])\n",
        "for i in range(0, df_length):    \n",
        "    tweet = re.sub('[^a-zA-Z]', ' ', df['SentimentText'][i])\n",
        "    tweet = tweet.lower()\n",
        "    tweet = re.sub('((www\\.[^\\s]+)|(https?://[^\\s]+))', 'URL', tweet)\n",
        "    tweet = re.sub('@[^\\s]+', 'AT_USER', tweet)\n",
        "    #tweet = tweet.split()\n",
        "    tokenizer = nltk.tokenize.TreebankWordTokenizer()\n",
        "    tweet = tokenizer.tokenize(tweet)\n",
        "    #ps = PorterStemmer()\n",
        "    lmz = nltk.stem.WordNetLemmatizer()\n",
        "    tweet = [lmz.lemmatize(word) for word in tweet if not word in stopwords ]\n",
        "    tweet = ' '.join(tweet)\n",
        "    corpus.append(tweet)"
      ],
      "execution_count": null,
      "outputs": []
    },
    {
      "cell_type": "code",
      "metadata": {
        "id": "o6fQEEVQL5z9",
        "colab_type": "code",
        "colab": {}
      },
      "source": [
        "corpus[0:10]"
      ],
      "execution_count": null,
      "outputs": []
    },
    {
      "cell_type": "code",
      "metadata": {
        "id": "K3GLWSBtAHbj",
        "colab_type": "code",
        "colab": {}
      },
      "source": [
        "from sklearn.feature_extraction.text import CountVectorizer\n",
        "from sklearn.feature_extraction.text import TfidfTransformer\n",
        "cv = CountVectorizer()\n",
        "td = TfidfTransformer(use_idf=True, norm='l2',smooth_idf=True)\n",
        "docs = cv.fit_transform(corpus).toarray()\n",
        "X = td.fit_transform(docs).toarray()\n",
        "y = df.iloc[:, 0].values"
      ],
      "execution_count": null,
      "outputs": []
    },
    {
      "cell_type": "code",
      "metadata": {
        "id": "OPsZ9nhTAIx5",
        "colab_type": "code",
        "colab": {}
      },
      "source": [
        "from sklearn.model_selection import train_test_split\n",
        "X_train, X_test, y_train, y_test = train_test_split(X, y, test_size = 0.20, random_state = 42)"
      ],
      "execution_count": null,
      "outputs": []
    },
    {
      "cell_type": "code",
      "metadata": {
        "id": "dFLDb1r3cBzD",
        "colab_type": "code",
        "colab": {
          "base_uri": "https://localhost:8080/",
          "height": 102
        },
        "outputId": "f527f3ef-cead-468b-b3a8-6fe7fb5096ae"
      },
      "source": [
        "#LogisticRegression\n",
        "from sklearn.linear_model import LogisticRegression\n",
        "classifier = LogisticRegression()\n",
        "classifier.fit(X_train, y_train)"
      ],
      "execution_count": null,
      "outputs": [
        {
          "output_type": "execute_result",
          "data": {
            "text/plain": [
              "LogisticRegression(C=1.0, class_weight=None, dual=False, fit_intercept=True,\n",
              "                   intercept_scaling=1, l1_ratio=None, max_iter=100,\n",
              "                   multi_class='auto', n_jobs=None, penalty='l2',\n",
              "                   random_state=None, solver='lbfgs', tol=0.0001, verbose=0,\n",
              "                   warm_start=False)"
            ]
          },
          "metadata": {
            "tags": []
          },
          "execution_count": 8
        }
      ]
    },
    {
      "cell_type": "code",
      "metadata": {
        "id": "Rt-8wGPxWxmE",
        "colab_type": "code",
        "colab": {}
      },
      "source": [
        "# from sklearn.linear_model import LogisticRegression\n",
        "# log_model = LogisticRegression()"
      ],
      "execution_count": null,
      "outputs": []
    },
    {
      "cell_type": "code",
      "metadata": {
        "id": "M7mx9j8jW6oX",
        "colab_type": "code",
        "colab": {}
      },
      "source": [
        "# param_grid = [    \n",
        "#     {'penalty' : ['l1', 'l2', 'elasticnet', 'none'],\n",
        "#     'C' : np.logspace(-4, 4, 20),\n",
        "#     'solver' : ['lbfgs','newton-cg','liblinear','sag','saga'],\n",
        "#     'max_iter' : [100, 1000,2500, 5000]\n",
        "#     }\n",
        "# ]"
      ],
      "execution_count": null,
      "outputs": []
    },
    {
      "cell_type": "code",
      "metadata": {
        "id": "BPpvyXjqYgcS",
        "colab_type": "code",
        "colab": {}
      },
      "source": [
        "# from sklearn.model_selection import GridSearchCV\n",
        "# clf = GridSearchCV(log_model, param_grid = param_grid, cv = 3, verbose=True)"
      ],
      "execution_count": null,
      "outputs": []
    },
    {
      "cell_type": "code",
      "metadata": {
        "id": "7OaOTfZ4cEs_",
        "colab_type": "code",
        "colab": {}
      },
      "source": [
        "# best_clf = clf.fit(X_train,y_train)"
      ],
      "execution_count": null,
      "outputs": []
    },
    {
      "cell_type": "code",
      "metadata": {
        "id": "MqCG7GFycMUz",
        "colab_type": "code",
        "colab": {}
      },
      "source": [
        "# best_clf.best_estimator_\n",
        "# print (f'Accuracy - : {best_clf.score(X,y):.3f}')"
      ],
      "execution_count": null,
      "outputs": []
    },
    {
      "cell_type": "code",
      "metadata": {
        "id": "ywjGWNz6h-n6",
        "colab_type": "code",
        "colab": {}
      },
      "source": [
        "# #Predicting the Test set results\n",
        "# y_pred1 = classifier1.predict(X_test)\n",
        "# y_pred2 = classifier2.predict(X_test)\n",
        "# y_pred3 = classifier3.predict(X_test)\n",
        "\n",
        "# y_pred =[]\n",
        "# for k in range(0,len(y_pred1)):\n",
        "#   a=[y_pred1[k],y_pred2[k],y_pred3[k],y_pred1[k],y_pred1[k]]\n",
        "\n",
        "#   if a.count(0)> a.count(1):\n",
        "#     y_pred.append(0)\n",
        "#   else:\n",
        "#     y_pred.append(1)"
      ],
      "execution_count": null,
      "outputs": []
    },
    {
      "cell_type": "code",
      "metadata": {
        "id": "tUngCVno7z-D",
        "colab_type": "code",
        "colab": {
          "base_uri": "https://localhost:8080/",
          "height": 296
        },
        "outputId": "0b584d31-8e1d-4a04-adca-f592e1ebf5d0"
      },
      "source": [
        "from sklearn import metrics\n",
        "import matplotlib.pyplot as plt\n",
        "\n",
        "y_pred_prob = classifier.predict_proba(X_test)[:, 1]\n",
        "fpr, tpr, thresholds = metrics.roc_curve(y_test, y_pred_prob)\n",
        "\n",
        "plt.plot(fpr, tpr)\n",
        "plt.xlim([0.0, 1.0])\n",
        "plt.ylim([0.0, 1.0])\n",
        "plt.rcParams['font.size'] = 12\n",
        "plt.title('ROC curve for classifier')\n",
        "plt.xlabel('False Positive Rate (1 - Specificity)')\n",
        "plt.ylabel('True Positive Rate (Sensitivity)')\n",
        "plt.grid(True)"
      ],
      "execution_count": null,
      "outputs": [
        {
          "output_type": "display_data",
          "data": {
            "image/png": "[encoded data removed]",
            "text/plain": [
              "<Figure size 432x288 with 1 Axes>"
            ]
          },
          "metadata": {
            "tags": [],
            "needs_background": "light"
          }
        }
      ]
    },
    {
      "cell_type": "code",
      "metadata": {
        "id": "ZYnNRg84caBP",
        "colab_type": "code",
        "colab": {}
      },
      "source": [
        "# Predicting the Test set results\n",
        "y_pred = classifier.predict(X_test)"
      ],
      "execution_count": null,
      "outputs": []
    },
    {
      "cell_type": "code",
      "metadata": {
        "id": "k5DM8EDCpg4j",
        "colab_type": "code",
        "colab": {}
      },
      "source": [
        "#accuracy score\n",
        "print('Accuracy: ',metrics.accuracy_score(y_test, y_pred))\n",
        "\n",
        "#confusion matrix\n",
        "confusion = metrics.confusion_matrix(y_test, y_pred)\n",
        "print(confusion)\n",
        "TP = confusion[1, 1]\n",
        "TN = confusion[0, 0]\n",
        "FP = confusion[0, 1]\n",
        "FN = confusion[1, 0]\n",
        "\n",
        "#error\n",
        "classification_error = (FP + FN) / float(TP + TN + FP + FN)\n",
        "print('Error: ',classification_error)\n",
        "\n",
        "#recall/sensitivity\n",
        "print('Sensitivity: ',metrics.recall_score(y_test, y_pred))\n",
        "\n",
        "#specificity\n",
        "specificity = TN / (TN + FP)\n",
        "print('Specificity: ',specificity)\n",
        "\n",
        "#false positive rate\n",
        "print('false positive rate: ',1 - specificity)\n",
        "\n",
        "#precision\n",
        "print('precision: ',metrics.precision_score(y_test, y_pred))\n",
        "\n",
        "#f1 score\n",
        "from sklearn.metrics import f1_score\n",
        "print('f1 score: ',f1_score(y_test, y_pred))"
      ],
      "execution_count": null,
      "outputs": []
    },
    {
      "cell_type": "code",
      "metadata": {
        "id": "mUoS_-VKn7LI",
        "colab_type": "code",
        "colab": {}
      },
      "source": [
        "# from sklearn.externals import joblib\n",
        "# joblib.dump(classifier, 'lr_new.pkl')\n",
        "# #joblib.dump(cv, 'cv_new.pkl')\n",
        "# #joblib.dump(td, 'td_new.pkl')"
      ],
      "execution_count": null,
      "outputs": []
    }
  ]
}